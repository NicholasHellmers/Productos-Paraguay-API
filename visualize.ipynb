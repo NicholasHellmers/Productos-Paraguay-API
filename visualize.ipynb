{
 "cells": [
  {
   "cell_type": "code",
   "execution_count": 28,
   "metadata": {},
   "outputs": [],
   "source": [
    "import pandas as pd\n",
    "\n",
    "# read output/data/products_superseis.csv and replace all commas with dots without pandas and if it's not the first line\n",
    "# then replace all ~|~ with commas\n",
    "with open('output/data/products_superseis.csv', 'r') as f:\n",
    "    lines = f.readlines()\n",
    "    lines = [line.replace(',', '.') if i != 0 else line for i, line in enumerate(lines)]\n",
    "with open('output/data/products_superseis.csv', 'w') as f:\n",
    "    f.writelines(lines)\n",
    "\n",
    "with open('output/data/products_superseis.csv', 'r') as f:\n",
    "    data = f.read()\n",
    "    data = data.replace(' ~|~ ', ',')\n",
    "    with open('output/data/products_superseis.csv', 'w') as f2:\n",
    "        f2.write(data)"
   ]
  },
  {
   "cell_type": "code",
   "execution_count": 29,
   "metadata": {},
   "outputs": [
    {
     "data": {
      "text/html": [
       "<div>\n",
       "<style scoped>\n",
       "    .dataframe tbody tr th:only-of-type {\n",
       "        vertical-align: middle;\n",
       "    }\n",
       "\n",
       "    .dataframe tbody tr th {\n",
       "        vertical-align: top;\n",
       "    }\n",
       "\n",
       "    .dataframe thead th {\n",
       "        text-align: right;\n",
       "    }\n",
       "</style>\n",
       "<table border=\"1\" class=\"dataframe\">\n",
       "  <thead>\n",
       "    <tr style=\"text-align: right;\">\n",
       "      <th></th>\n",
       "      <th>name</th>\n",
       "      <th>price</th>\n",
       "      <th>category</th>\n",
       "      <th>product_url</th>\n",
       "      <th>image_url</th>\n",
       "    </tr>\n",
       "  </thead>\n",
       "  <tbody>\n",
       "    <tr>\n",
       "      <th>0</th>\n",
       "      <td>ACEITE DE OLIVA COCINERO 250 ML</td>\n",
       "      <td>23.000</td>\n",
       "      <td>Aceites</td>\n",
       "      <td>https://www.superseis.com.py/products/337370-a...</td>\n",
       "      <td>https://www.superseis.com.py/images/thumbs/025...</td>\n",
       "    </tr>\n",
       "    <tr>\n",
       "      <th>1</th>\n",
       "      <td>ACEITE DE OLIVA COCINERO 1LITRO</td>\n",
       "      <td>83.800</td>\n",
       "      <td>Aceites</td>\n",
       "      <td>https://www.superseis.com.py/products/337371-a...</td>\n",
       "      <td>https://www.superseis.com.py/images/thumbs/025...</td>\n",
       "    </tr>\n",
       "    <tr>\n",
       "      <th>2</th>\n",
       "      <td>ACEITE DE OLIVA EXTRA VIRGEN X1LT EXCELLENT BOT</td>\n",
       "      <td>98.000</td>\n",
       "      <td>Aceites</td>\n",
       "      <td>https://www.superseis.com.py/products/134688-a...</td>\n",
       "      <td>https://www.superseis.com.py/images/thumbs/025...</td>\n",
       "    </tr>\n",
       "    <tr>\n",
       "      <th>3</th>\n",
       "      <td>ACEITE DE OLIVA EXTRA VIRGEN X500ML EXCELLENT BOT</td>\n",
       "      <td>64.000</td>\n",
       "      <td>Aceites</td>\n",
       "      <td>https://www.superseis.com.py/products/138374-a...</td>\n",
       "      <td>https://www.superseis.com.py/images/thumbs/025...</td>\n",
       "    </tr>\n",
       "    <tr>\n",
       "      <th>4</th>\n",
       "      <td>ACEITE BORGES OLIVA BOTELLA 125ML</td>\n",
       "      <td>16.050</td>\n",
       "      <td>Aceites</td>\n",
       "      <td>https://www.superseis.com.py/products/25369-ac...</td>\n",
       "      <td>https://www.superseis.com.py/images/thumbs/025...</td>\n",
       "    </tr>\n",
       "  </tbody>\n",
       "</table>\n",
       "</div>"
      ],
      "text/plain": [
       "                                                name     price category  \\\n",
       "0                    ACEITE DE OLIVA COCINERO 250 ML    23.000  Aceites   \n",
       "1                    ACEITE DE OLIVA COCINERO 1LITRO    83.800  Aceites   \n",
       "2    ACEITE DE OLIVA EXTRA VIRGEN X1LT EXCELLENT BOT    98.000  Aceites   \n",
       "3  ACEITE DE OLIVA EXTRA VIRGEN X500ML EXCELLENT BOT    64.000  Aceites   \n",
       "4                  ACEITE BORGES OLIVA BOTELLA 125ML    16.050  Aceites   \n",
       "\n",
       "                                         product_url  \\\n",
       "0  https://www.superseis.com.py/products/337370-a...   \n",
       "1  https://www.superseis.com.py/products/337371-a...   \n",
       "2  https://www.superseis.com.py/products/134688-a...   \n",
       "3  https://www.superseis.com.py/products/138374-a...   \n",
       "4  https://www.superseis.com.py/products/25369-ac...   \n",
       "\n",
       "                                           image_url  \n",
       "0  https://www.superseis.com.py/images/thumbs/025...  \n",
       "1  https://www.superseis.com.py/images/thumbs/025...  \n",
       "2  https://www.superseis.com.py/images/thumbs/025...  \n",
       "3  https://www.superseis.com.py/images/thumbs/025...  \n",
       "4  https://www.superseis.com.py/images/thumbs/025...  "
      ]
     },
     "execution_count": 29,
     "metadata": {},
     "output_type": "execute_result"
    }
   ],
   "source": [
    "# read output/data/products_superseis.csv\n",
    "df = pd.read_csv('output/data/products_superseis.csv', sep=',')\n",
    "\n",
    "df.head()"
   ]
  },
  {
   "cell_type": "code",
   "execution_count": 30,
   "metadata": {},
   "outputs": [
    {
     "name": "stdout",
     "output_type": "stream",
     "text": [
      "Duplicated rows: 46\n",
      "Total rows: 14822\n",
      "Unique rows: 14776\n"
     ]
    }
   ],
   "source": [
    "size_dup = len(df[df.duplicated()])\n",
    "size = len(df)\n",
    "\n",
    "# drop duplicated rows\n",
    "df.drop_duplicates(inplace=True)\n",
    "# reset index\n",
    "df.reset_index(drop=True, inplace=True)\n",
    "\n",
    "assert(len(df) == size - size_dup)\n",
    "print('Duplicated rows: {}'.format(size_dup))\n",
    "print('Total rows: {}'.format(size))\n",
    "print('Unique rows: {}'.format(len(df)))"
   ]
  },
  {
   "cell_type": "code",
   "execution_count": 31,
   "metadata": {},
   "outputs": [],
   "source": [
    "#pop all except the first number found\n",
    "# df[\"price\"][1].split('  ')\n",
    "for i in range(len(df)):\n",
    "    df[\"price\"][i] = df[\"price\"][i].replace(' ₲. ','').replace('.','')\n",
    "    df[\"price\"][i] = df[\"price\"][i].split('  ')[1]\n",
    "\n",
    "# add the column \"supermarket\" with the value \"superseis\"\n",
    "df[\"supermarket\"] = \"superseis\"\n",
    "\n",
    "# drop column \"category\"\n",
    "df.drop(columns=['category'], inplace=True)\n",
    "\n",
    "# reset index\n",
    "df.reset_index(drop=True, inplace=True)"
   ]
  },
  {
   "cell_type": "code",
   "execution_count": 32,
   "metadata": {},
   "outputs": [
    {
     "name": "stderr",
     "output_type": "stream",
     "text": [
      "/var/folders/ll/wc1k6sts3y34c45g4nh0h36r0000gn/T/ipykernel_40685/1312036629.py:3: FutureWarning: DataFrame.applymap has been deprecated. Use DataFrame.map instead.\n",
      "  df = df.applymap(lambda s:s.lower() if type(s) == str else s)\n"
     ]
    }
   ],
   "source": [
    "# Turn all the columns and rows to lowercase\n",
    "df.columns = map(str.lower, df.columns)\n",
    "df = df.applymap(lambda s:s.lower() if type(s) == str else s)\n"
   ]
  },
  {
   "cell_type": "code",
   "execution_count": 33,
   "metadata": {},
   "outputs": [
    {
     "name": "stdout",
     "output_type": "stream",
     "text": [
      "Saving output/data/clean/products_superseis_clean.csv\n"
     ]
    }
   ],
   "source": [
    "print('Saving output/data/clean/products_superseis_clean.csv')\n",
    "df.to_csv('output/data/clean/products_superseis.csv', index=False)"
   ]
  },
  {
   "cell_type": "code",
   "execution_count": null,
   "metadata": {},
   "outputs": [],
   "source": []
  }
 ],
 "metadata": {
  "kernelspec": {
   "display_name": "Python 3",
   "language": "python",
   "name": "python3"
  },
  "language_info": {
   "codemirror_mode": {
    "name": "ipython",
    "version": 3
   },
   "file_extension": ".py",
   "mimetype": "text/x-python",
   "name": "python",
   "nbconvert_exporter": "python",
   "pygments_lexer": "ipython3",
   "version": "3.11.5"
  }
 },
 "nbformat": 4,
 "nbformat_minor": 2
}
